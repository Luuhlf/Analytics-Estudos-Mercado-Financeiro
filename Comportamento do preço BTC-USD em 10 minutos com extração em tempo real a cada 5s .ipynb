{
  "nbformat": 4,
  "nbformat_minor": 0,
  "metadata": {
    "colab": {
      "provenance": [],
      "authorship_tag": "ABX9TyMxrQw9ugqMu9XkW+liOVDx",
      "include_colab_link": true
    },
    "kernelspec": {
      "name": "python3",
      "display_name": "Python 3"
    },
    "language_info": {
      "name": "python"
    }
  },
  "cells": [
    {
      "cell_type": "markdown",
      "metadata": {
        "id": "view-in-github",
        "colab_type": "text"
      },
      "source": [
        "<a href=\"https://colab.research.google.com/github/Luuhlf/quant-estudos-volatilidade/blob/volatilidade/Comportamento%20do%20pre%C3%A7o%20BTC-USD%20em%2010%20minutos%20com%20extra%C3%A7%C3%A3o%20em%20tempo%20real%20a%20cada%205s%20.ipynb\" target=\"_parent\"><img src=\"https://colab.research.google.com/assets/colab-badge.svg\" alt=\"Open In Colab\"/></a>"
      ]
    },
    {
      "cell_type": "code",
      "execution_count": 2,
      "metadata": {
        "colab": {
          "base_uri": "https://localhost:8080/"
        },
        "id": "M5jr9F0Za4ni",
        "outputId": "7281fb3d-6242-4166-cc9c-20a60e48523f"
      },
      "outputs": [
        {
          "output_type": "stream",
          "name": "stdout",
          "text": [
            "Looking in indexes: https://pypi.org/simple, https://us-python.pkg.dev/colab-wheels/public/simple/\n",
            "\u001b[31mERROR: Could not find a version that satisfies the requirement request_html (from versions: none)\u001b[0m\n",
            "\u001b[31mERROR: No matching distribution found for request_html\u001b[0m\n",
            "Looking in indexes: https://pypi.org/simple, https://us-python.pkg.dev/colab-wheels/public/simple/\n",
            "Collecting yahoo_fin\n",
            "  Downloading yahoo_fin-0.8.9.1-py3-none-any.whl (10 kB)\n",
            "Collecting requests-html\n",
            "  Downloading requests_html-0.10.0-py3-none-any.whl (13 kB)\n",
            "Requirement already satisfied: pandas in /usr/local/lib/python3.8/dist-packages (from yahoo_fin) (1.3.5)\n",
            "Collecting feedparser\n",
            "  Downloading feedparser-6.0.10-py3-none-any.whl (81 kB)\n",
            "\u001b[K     |████████████████████████████████| 81 kB 3.6 MB/s \n",
            "\u001b[?25hRequirement already satisfied: requests in /usr/local/lib/python3.8/dist-packages (from yahoo_fin) (2.23.0)\n",
            "Collecting sgmllib3k\n",
            "  Downloading sgmllib3k-1.0.0.tar.gz (5.8 kB)\n",
            "Requirement already satisfied: pytz>=2017.3 in /usr/local/lib/python3.8/dist-packages (from pandas->yahoo_fin) (2022.6)\n",
            "Requirement already satisfied: python-dateutil>=2.7.3 in /usr/local/lib/python3.8/dist-packages (from pandas->yahoo_fin) (2.8.2)\n",
            "Requirement already satisfied: numpy>=1.17.3 in /usr/local/lib/python3.8/dist-packages (from pandas->yahoo_fin) (1.21.6)\n",
            "Requirement already satisfied: six>=1.5 in /usr/local/lib/python3.8/dist-packages (from python-dateutil>=2.7.3->pandas->yahoo_fin) (1.15.0)\n",
            "Requirement already satisfied: certifi>=2017.4.17 in /usr/local/lib/python3.8/dist-packages (from requests->yahoo_fin) (2022.12.7)\n",
            "Requirement already satisfied: idna<3,>=2.5 in /usr/local/lib/python3.8/dist-packages (from requests->yahoo_fin) (2.10)\n",
            "Requirement already satisfied: urllib3!=1.25.0,!=1.25.1,<1.26,>=1.21.1 in /usr/local/lib/python3.8/dist-packages (from requests->yahoo_fin) (1.24.3)\n",
            "Requirement already satisfied: chardet<4,>=3.0.2 in /usr/local/lib/python3.8/dist-packages (from requests->yahoo_fin) (3.0.4)\n",
            "Collecting fake-useragent\n",
            "  Downloading fake_useragent-1.1.1-py3-none-any.whl (50 kB)\n",
            "\u001b[K     |████████████████████████████████| 50 kB 6.8 MB/s \n",
            "\u001b[?25hCollecting w3lib\n",
            "  Downloading w3lib-2.1.1-py3-none-any.whl (21 kB)\n",
            "Collecting pyquery\n",
            "  Downloading pyquery-1.4.3-py3-none-any.whl (22 kB)\n",
            "Collecting pyppeteer>=0.0.14\n",
            "  Downloading pyppeteer-1.0.2-py3-none-any.whl (83 kB)\n",
            "\u001b[K     |████████████████████████████████| 83 kB 1.5 MB/s \n",
            "\u001b[?25hCollecting parse\n",
            "  Downloading parse-1.19.0.tar.gz (30 kB)\n",
            "Requirement already satisfied: bs4 in /usr/local/lib/python3.8/dist-packages (from requests-html->yahoo_fin) (0.0.1)\n",
            "Requirement already satisfied: appdirs<2.0.0,>=1.4.3 in /usr/local/lib/python3.8/dist-packages (from pyppeteer>=0.0.14->requests-html->yahoo_fin) (1.4.4)\n",
            "Collecting urllib3!=1.25.0,!=1.25.1,<1.26,>=1.21.1\n",
            "  Downloading urllib3-1.25.11-py2.py3-none-any.whl (127 kB)\n",
            "\u001b[K     |████████████████████████████████| 127 kB 37.5 MB/s \n",
            "\u001b[?25hRequirement already satisfied: importlib-metadata>=1.4 in /usr/local/lib/python3.8/dist-packages (from pyppeteer>=0.0.14->requests-html->yahoo_fin) (5.1.0)\n",
            "Collecting websockets<11.0,>=10.0\n",
            "  Downloading websockets-10.4-cp38-cp38-manylinux_2_5_x86_64.manylinux1_x86_64.manylinux_2_17_x86_64.manylinux2014_x86_64.whl (106 kB)\n",
            "\u001b[K     |████████████████████████████████| 106 kB 54.9 MB/s \n",
            "\u001b[?25hCollecting pyee<9.0.0,>=8.1.0\n",
            "  Downloading pyee-8.2.2-py2.py3-none-any.whl (12 kB)\n",
            "Requirement already satisfied: tqdm<5.0.0,>=4.42.1 in /usr/local/lib/python3.8/dist-packages (from pyppeteer>=0.0.14->requests-html->yahoo_fin) (4.64.1)\n",
            "Requirement already satisfied: zipp>=0.5 in /usr/local/lib/python3.8/dist-packages (from importlib-metadata>=1.4->pyppeteer>=0.0.14->requests-html->yahoo_fin) (3.11.0)\n",
            "Requirement already satisfied: beautifulsoup4 in /usr/local/lib/python3.8/dist-packages (from bs4->requests-html->yahoo_fin) (4.6.3)\n",
            "Requirement already satisfied: importlib-resources>=5.0 in /usr/local/lib/python3.8/dist-packages (from fake-useragent->requests-html->yahoo_fin) (5.10.1)\n",
            "Collecting cssselect>0.7.9\n",
            "  Downloading cssselect-1.2.0-py2.py3-none-any.whl (18 kB)\n",
            "Requirement already satisfied: lxml>=2.1 in /usr/local/lib/python3.8/dist-packages (from pyquery->requests-html->yahoo_fin) (4.9.2)\n",
            "Building wheels for collected packages: parse, sgmllib3k\n",
            "  Building wheel for parse (setup.py) ... \u001b[?25l\u001b[?25hdone\n",
            "  Created wheel for parse: filename=parse-1.19.0-py3-none-any.whl size=24591 sha256=db0ac48aa2701f72a1204abdce61f1725561036bfa068f2f95bea44e96e56c0c\n",
            "  Stored in directory: /root/.cache/pip/wheels/e5/33/1f/68392720485b3ecf125a69e700baaab7624616deedea2fa6e2\n",
            "  Building wheel for sgmllib3k (setup.py) ... \u001b[?25l\u001b[?25hdone\n",
            "  Created wheel for sgmllib3k: filename=sgmllib3k-1.0.0-py3-none-any.whl size=6066 sha256=631c443e59ee5663cf458e734b42f3d6c94f0f6ade04d2803b0915464bcaa717\n",
            "  Stored in directory: /root/.cache/pip/wheels/83/63/2f/117884c3b19d46b64d3d61690333aa80c88dc14050e269c546\n",
            "Successfully built parse sgmllib3k\n",
            "Installing collected packages: websockets, urllib3, pyee, cssselect, w3lib, sgmllib3k, pyquery, pyppeteer, parse, fake-useragent, requests-html, feedparser, yahoo-fin\n",
            "  Attempting uninstall: urllib3\n",
            "    Found existing installation: urllib3 1.24.3\n",
            "    Uninstalling urllib3-1.24.3:\n",
            "      Successfully uninstalled urllib3-1.24.3\n",
            "Successfully installed cssselect-1.2.0 fake-useragent-1.1.1 feedparser-6.0.10 parse-1.19.0 pyee-8.2.2 pyppeteer-1.0.2 pyquery-1.4.3 requests-html-0.10.0 sgmllib3k-1.0.0 urllib3-1.25.11 w3lib-2.1.1 websockets-10.4 yahoo-fin-0.8.9.1\n"
          ]
        }
      ],
      "source": [
        "!pip install request_html\n",
        "!pip install yahoo_fin"
      ]
    },
    {
      "cell_type": "code",
      "source": [
        "from yahoo_fin import stock_info as si"
      ],
      "metadata": {
        "id": "jZUMGPrbbcrP"
      },
      "execution_count": 5,
      "outputs": []
    },
    {
      "cell_type": "code",
      "source": [
        "si.get_live_price('aapl')"
      ],
      "metadata": {
        "colab": {
          "base_uri": "https://localhost:8080/"
        },
        "id": "LNqKuAlYb_9t",
        "outputId": "77805c44-1ae7-4dfa-f24e-b9337f81ff51"
      },
      "execution_count": 10,
      "outputs": [
        {
          "output_type": "execute_result",
          "data": {
            "text/plain": [
              "132.3699951171875"
            ]
          },
          "metadata": {},
          "execution_count": 10
        }
      ]
    },
    {
      "cell_type": "code",
      "source": [
        "#arredondando preço para duas casas decimais\n",
        "round(si.get_live_price('BBDC4.SA'), 2)"
      ],
      "metadata": {
        "colab": {
          "base_uri": "https://localhost:8080/"
        },
        "id": "83n09WctcLV2",
        "outputId": "d2cd4494-1d09-453f-efb0-e905cd310625"
      },
      "execution_count": 12,
      "outputs": [
        {
          "output_type": "execute_result",
          "data": {
            "text/plain": [
              "14.2"
            ]
          },
          "metadata": {},
          "execution_count": 12
        }
      ]
    },
    {
      "cell_type": "code",
      "source": [
        "round(si.get_live_price('BTC-USD'), 2)"
      ],
      "metadata": {
        "colab": {
          "base_uri": "https://localhost:8080/"
        },
        "id": "OfVajry5ciul",
        "outputId": "0fbf1cfc-65c5-44de-daec-488ebead2d50"
      },
      "execution_count": 13,
      "outputs": [
        {
          "output_type": "execute_result",
          "data": {
            "text/plain": [
              "16826.99"
            ]
          },
          "metadata": {},
          "execution_count": 13
        }
      ]
    },
    {
      "cell_type": "markdown",
      "source": [
        "##Criando loop  para extração de cotações ao vivo"
      ],
      "metadata": {
        "id": "yfw8zSTqcu69"
      }
    },
    {
      "cell_type": "code",
      "source": [
        "round(si.get_live_price('BTC-USD'), 2)"
      ],
      "metadata": {
        "colab": {
          "base_uri": "https://localhost:8080/"
        },
        "id": "SfmazApPc-En",
        "outputId": "8a3f2eaa-c25f-4b7e-8402-c6eeb7d9ca0e"
      },
      "execution_count": 14,
      "outputs": [
        {
          "output_type": "execute_result",
          "data": {
            "text/plain": [
              "1213.14"
            ]
          },
          "metadata": {},
          "execution_count": 14
        }
      ]
    },
    {
      "cell_type": "code",
      "source": [
        "import time \n",
        "import datetime\n",
        "import pandas as pd"
      ],
      "metadata": {
        "id": "6J113DQWdDw7"
      },
      "execution_count": 16,
      "outputs": []
    },
    {
      "cell_type": "code",
      "source": [
        "time.time()"
      ],
      "metadata": {
        "colab": {
          "base_uri": "https://localhost:8080/"
        },
        "id": "ZrmeK_gFdM-F",
        "outputId": "7d6e9f31-ab76-44b8-c8d0-9f02d1cdd0ee"
      },
      "execution_count": 17,
      "outputs": [
        {
          "output_type": "execute_result",
          "data": {
            "text/plain": [
              "1671538637.8760269"
            ]
          },
          "metadata": {},
          "execution_count": 17
        }
      ]
    },
    {
      "cell_type": "code",
      "source": [
        "n = 10\n",
        "\n",
        "tempo = time.time() +60*n"
      ],
      "metadata": {
        "id": "tJybikodhNjE"
      },
      "execution_count": 33,
      "outputs": []
    },
    {
      "cell_type": "code",
      "source": [
        "a = 0 \n",
        "df = pd.DataFrame(columns= ['Hora', 'Preço'])\n",
        "\n",
        "while time.time() < tempo:\n",
        "  preco = round(si.get_live_price('ETH-USD'), 2)\n",
        "  tempo_real = datetime.datetime.fromtimestamp(time.time())\n",
        "  tempo_real = tempo_real.strftime(\"%d-%b-%Y %H:%M:%S\")\n",
        "\n",
        "  d = {'Hora': tempo_real, 'Preço': preco}\n",
        "\n",
        "  print(d)\n",
        "\n",
        "  linha = pd.DataFrame(data = d, index = [a])\n",
        "\n",
        "  a += 1\n",
        "\n",
        "  df = pd.concat([df, linha], ignore_index=True)\n",
        "\n",
        "  time.sleep(5)"
      ],
      "metadata": {
        "colab": {
          "base_uri": "https://localhost:8080/"
        },
        "id": "66kQppJfd3m9",
        "outputId": "aeed146d-eaf7-42e4-b946-39a20bbe532b"
      },
      "execution_count": 34,
      "outputs": [
        {
          "output_type": "stream",
          "name": "stdout",
          "text": [
            "{'Hora': '20-Dec-2022 12:42:25', 'Preço': 1213.05}\n",
            "{'Hora': '20-Dec-2022 12:42:30', 'Preço': 1213.05}\n",
            "{'Hora': '20-Dec-2022 12:42:36', 'Preço': 1213.05}\n",
            "{'Hora': '20-Dec-2022 12:42:41', 'Preço': 1213.05}\n",
            "{'Hora': '20-Dec-2022 12:42:46', 'Preço': 1213.05}\n",
            "{'Hora': '20-Dec-2022 12:42:52', 'Preço': 1213.1}\n",
            "{'Hora': '20-Dec-2022 12:42:57', 'Preço': 1213.1}\n",
            "{'Hora': '20-Dec-2022 12:43:02', 'Preço': 1213.1}\n",
            "{'Hora': '20-Dec-2022 12:43:08', 'Preço': 1213.1}\n",
            "{'Hora': '20-Dec-2022 12:43:13', 'Preço': 1213.1}\n",
            "{'Hora': '20-Dec-2022 12:43:19', 'Preço': 1213.1}\n",
            "{'Hora': '20-Dec-2022 12:43:24', 'Preço': 1213.1}\n",
            "{'Hora': '20-Dec-2022 12:43:29', 'Preço': 1213.1}\n",
            "{'Hora': '20-Dec-2022 12:43:35', 'Preço': 1213.1}\n",
            "{'Hora': '20-Dec-2022 12:43:40', 'Preço': 1213.1}\n",
            "{'Hora': '20-Dec-2022 12:43:46', 'Preço': 1213.1}\n",
            "{'Hora': '20-Dec-2022 12:43:51', 'Preço': 1213.53}\n",
            "{'Hora': '20-Dec-2022 12:43:56', 'Preço': 1213.53}\n",
            "{'Hora': '20-Dec-2022 12:44:02', 'Preço': 1213.53}\n",
            "{'Hora': '20-Dec-2022 12:44:07', 'Preço': 1213.53}\n",
            "{'Hora': '20-Dec-2022 12:44:13', 'Preço': 1213.53}\n",
            "{'Hora': '20-Dec-2022 12:44:18', 'Preço': 1213.53}\n",
            "{'Hora': '20-Dec-2022 12:44:23', 'Preço': 1213.53}\n",
            "{'Hora': '20-Dec-2022 12:44:29', 'Preço': 1213.53}\n",
            "{'Hora': '20-Dec-2022 12:44:34', 'Preço': 1213.53}\n",
            "{'Hora': '20-Dec-2022 12:44:40', 'Preço': 1213.53}\n",
            "{'Hora': '20-Dec-2022 12:44:45', 'Preço': 1213.53}\n",
            "{'Hora': '20-Dec-2022 12:44:50', 'Preço': 1214.41}\n",
            "{'Hora': '20-Dec-2022 12:44:56', 'Preço': 1214.41}\n",
            "{'Hora': '20-Dec-2022 12:45:01', 'Preço': 1214.41}\n",
            "{'Hora': '20-Dec-2022 12:45:07', 'Preço': 1214.41}\n",
            "{'Hora': '20-Dec-2022 12:45:12', 'Preço': 1214.41}\n",
            "{'Hora': '20-Dec-2022 12:45:17', 'Preço': 1214.41}\n",
            "{'Hora': '20-Dec-2022 12:45:23', 'Preço': 1214.41}\n",
            "{'Hora': '20-Dec-2022 12:45:28', 'Preço': 1214.41}\n",
            "{'Hora': '20-Dec-2022 12:45:33', 'Preço': 1214.41}\n",
            "{'Hora': '20-Dec-2022 12:45:39', 'Preço': 1214.41}\n",
            "{'Hora': '20-Dec-2022 12:45:44', 'Preço': 1214.41}\n",
            "{'Hora': '20-Dec-2022 12:45:50', 'Preço': 1214.37}\n",
            "{'Hora': '20-Dec-2022 12:45:55', 'Preço': 1214.37}\n",
            "{'Hora': '20-Dec-2022 12:46:01', 'Preço': 1214.37}\n",
            "{'Hora': '20-Dec-2022 12:46:06', 'Preço': 1214.37}\n",
            "{'Hora': '20-Dec-2022 12:46:11', 'Preço': 1214.37}\n",
            "{'Hora': '20-Dec-2022 12:46:17', 'Preço': 1214.37}\n",
            "{'Hora': '20-Dec-2022 12:46:22', 'Preço': 1214.37}\n",
            "{'Hora': '20-Dec-2022 12:46:27', 'Preço': 1214.37}\n",
            "{'Hora': '20-Dec-2022 12:46:33', 'Preço': 1214.37}\n",
            "{'Hora': '20-Dec-2022 12:46:38', 'Preço': 1214.37}\n",
            "{'Hora': '20-Dec-2022 12:46:44', 'Preço': 1214.37}\n",
            "{'Hora': '20-Dec-2022 12:46:49', 'Preço': 1214.48}\n",
            "{'Hora': '20-Dec-2022 12:46:55', 'Preço': 1214.48}\n",
            "{'Hora': '20-Dec-2022 12:47:00', 'Preço': 1214.48}\n",
            "{'Hora': '20-Dec-2022 12:47:05', 'Preço': 1214.48}\n",
            "{'Hora': '20-Dec-2022 12:47:11', 'Preço': 1214.48}\n",
            "{'Hora': '20-Dec-2022 12:47:16', 'Preço': 1214.48}\n",
            "{'Hora': '20-Dec-2022 12:47:21', 'Preço': 1214.48}\n",
            "{'Hora': '20-Dec-2022 12:47:27', 'Preço': 1214.48}\n",
            "{'Hora': '20-Dec-2022 12:47:32', 'Preço': 1214.48}\n",
            "{'Hora': '20-Dec-2022 12:47:38', 'Preço': 1214.48}\n",
            "{'Hora': '20-Dec-2022 12:47:43', 'Preço': 1214.48}\n",
            "{'Hora': '20-Dec-2022 12:47:49', 'Preço': 1214.54}\n",
            "{'Hora': '20-Dec-2022 12:47:54', 'Preço': 1214.54}\n",
            "{'Hora': '20-Dec-2022 12:47:59', 'Preço': 1214.54}\n",
            "{'Hora': '20-Dec-2022 12:48:05', 'Preço': 1214.54}\n",
            "{'Hora': '20-Dec-2022 12:48:10', 'Preço': 1214.54}\n",
            "{'Hora': '20-Dec-2022 12:48:16', 'Preço': 1214.54}\n",
            "{'Hora': '20-Dec-2022 12:48:21', 'Preço': 1214.54}\n",
            "{'Hora': '20-Dec-2022 12:48:26', 'Preço': 1214.54}\n",
            "{'Hora': '20-Dec-2022 12:48:32', 'Preço': 1214.54}\n",
            "{'Hora': '20-Dec-2022 12:48:37', 'Preço': 1214.54}\n",
            "{'Hora': '20-Dec-2022 12:48:42', 'Preço': 1214.54}\n",
            "{'Hora': '20-Dec-2022 12:48:48', 'Preço': 1214.54}\n",
            "{'Hora': '20-Dec-2022 12:48:53', 'Preço': 1214.59}\n",
            "{'Hora': '20-Dec-2022 12:48:59', 'Preço': 1214.59}\n",
            "{'Hora': '20-Dec-2022 12:49:04', 'Preço': 1214.59}\n",
            "{'Hora': '20-Dec-2022 12:49:09', 'Preço': 1214.59}\n",
            "{'Hora': '20-Dec-2022 12:49:15', 'Preço': 1214.59}\n",
            "{'Hora': '20-Dec-2022 12:49:20', 'Preço': 1214.59}\n",
            "{'Hora': '20-Dec-2022 12:49:25', 'Preço': 1214.59}\n",
            "{'Hora': '20-Dec-2022 12:49:31', 'Preço': 1214.59}\n",
            "{'Hora': '20-Dec-2022 12:49:36', 'Preço': 1214.59}\n",
            "{'Hora': '20-Dec-2022 12:49:42', 'Preço': 1214.59}\n",
            "{'Hora': '20-Dec-2022 12:49:47', 'Preço': 1214.59}\n",
            "{'Hora': '20-Dec-2022 12:49:52', 'Preço': 1214.57}\n",
            "{'Hora': '20-Dec-2022 12:49:58', 'Preço': 1214.57}\n",
            "{'Hora': '20-Dec-2022 12:50:03', 'Preço': 1214.57}\n",
            "{'Hora': '20-Dec-2022 12:50:09', 'Preço': 1214.57}\n",
            "{'Hora': '20-Dec-2022 12:50:14', 'Preço': 1214.57}\n",
            "{'Hora': '20-Dec-2022 12:50:19', 'Preço': 1214.57}\n",
            "{'Hora': '20-Dec-2022 12:50:25', 'Preço': 1214.57}\n",
            "{'Hora': '20-Dec-2022 12:50:30', 'Preço': 1214.57}\n",
            "{'Hora': '20-Dec-2022 12:50:36', 'Preço': 1214.57}\n",
            "{'Hora': '20-Dec-2022 12:50:41', 'Preço': 1214.57}\n",
            "{'Hora': '20-Dec-2022 12:50:46', 'Preço': 1214.57}\n",
            "{'Hora': '20-Dec-2022 12:50:52', 'Preço': 1214.27}\n",
            "{'Hora': '20-Dec-2022 12:50:57', 'Preço': 1214.27}\n",
            "{'Hora': '20-Dec-2022 12:51:03', 'Preço': 1214.27}\n",
            "{'Hora': '20-Dec-2022 12:51:08', 'Preço': 1214.27}\n",
            "{'Hora': '20-Dec-2022 12:51:13', 'Preço': 1214.27}\n",
            "{'Hora': '20-Dec-2022 12:51:19', 'Preço': 1214.27}\n",
            "{'Hora': '20-Dec-2022 12:51:24', 'Preço': 1214.27}\n",
            "{'Hora': '20-Dec-2022 12:51:30', 'Preço': 1214.27}\n",
            "{'Hora': '20-Dec-2022 12:51:35', 'Preço': 1214.27}\n",
            "{'Hora': '20-Dec-2022 12:51:40', 'Preço': 1214.27}\n",
            "{'Hora': '20-Dec-2022 12:51:46', 'Preço': 1214.27}\n",
            "{'Hora': '20-Dec-2022 12:51:51', 'Preço': 1214.2}\n",
            "{'Hora': '20-Dec-2022 12:51:56', 'Preço': 1214.2}\n",
            "{'Hora': '20-Dec-2022 12:52:02', 'Preço': 1214.2}\n",
            "{'Hora': '20-Dec-2022 12:52:07', 'Preço': 1214.2}\n",
            "{'Hora': '20-Dec-2022 12:52:13', 'Preço': 1214.2}\n",
            "{'Hora': '20-Dec-2022 12:52:18', 'Preço': 1214.2}\n"
          ]
        }
      ]
    },
    {
      "cell_type": "code",
      "source": [
        "df.head()"
      ],
      "metadata": {
        "colab": {
          "base_uri": "https://localhost:8080/",
          "height": 206
        },
        "id": "Xsg2m_P2hI0o",
        "outputId": "e6f9c239-202a-45e9-b4dc-402b456872f2"
      },
      "execution_count": 35,
      "outputs": [
        {
          "output_type": "execute_result",
          "data": {
            "text/plain": [
              "                   Hora    Preço\n",
              "0  20-Dec-2022 12:42:25  1213.05\n",
              "1  20-Dec-2022 12:42:30  1213.05\n",
              "2  20-Dec-2022 12:42:36  1213.05\n",
              "3  20-Dec-2022 12:42:41  1213.05\n",
              "4  20-Dec-2022 12:42:46  1213.05"
            ],
            "text/html": [
              "\n",
              "  <div id=\"df-f79b70b3-b045-492e-813d-94e5251a7078\">\n",
              "    <div class=\"colab-df-container\">\n",
              "      <div>\n",
              "<style scoped>\n",
              "    .dataframe tbody tr th:only-of-type {\n",
              "        vertical-align: middle;\n",
              "    }\n",
              "\n",
              "    .dataframe tbody tr th {\n",
              "        vertical-align: top;\n",
              "    }\n",
              "\n",
              "    .dataframe thead th {\n",
              "        text-align: right;\n",
              "    }\n",
              "</style>\n",
              "<table border=\"1\" class=\"dataframe\">\n",
              "  <thead>\n",
              "    <tr style=\"text-align: right;\">\n",
              "      <th></th>\n",
              "      <th>Hora</th>\n",
              "      <th>Preço</th>\n",
              "    </tr>\n",
              "  </thead>\n",
              "  <tbody>\n",
              "    <tr>\n",
              "      <th>0</th>\n",
              "      <td>20-Dec-2022 12:42:25</td>\n",
              "      <td>1213.05</td>\n",
              "    </tr>\n",
              "    <tr>\n",
              "      <th>1</th>\n",
              "      <td>20-Dec-2022 12:42:30</td>\n",
              "      <td>1213.05</td>\n",
              "    </tr>\n",
              "    <tr>\n",
              "      <th>2</th>\n",
              "      <td>20-Dec-2022 12:42:36</td>\n",
              "      <td>1213.05</td>\n",
              "    </tr>\n",
              "    <tr>\n",
              "      <th>3</th>\n",
              "      <td>20-Dec-2022 12:42:41</td>\n",
              "      <td>1213.05</td>\n",
              "    </tr>\n",
              "    <tr>\n",
              "      <th>4</th>\n",
              "      <td>20-Dec-2022 12:42:46</td>\n",
              "      <td>1213.05</td>\n",
              "    </tr>\n",
              "  </tbody>\n",
              "</table>\n",
              "</div>\n",
              "      <button class=\"colab-df-convert\" onclick=\"convertToInteractive('df-f79b70b3-b045-492e-813d-94e5251a7078')\"\n",
              "              title=\"Convert this dataframe to an interactive table.\"\n",
              "              style=\"display:none;\">\n",
              "        \n",
              "  <svg xmlns=\"http://www.w3.org/2000/svg\" height=\"24px\"viewBox=\"0 0 24 24\"\n",
              "       width=\"24px\">\n",
              "    <path d=\"M0 0h24v24H0V0z\" fill=\"none\"/>\n",
              "    <path d=\"M18.56 5.44l.94 2.06.94-2.06 2.06-.94-2.06-.94-.94-2.06-.94 2.06-2.06.94zm-11 1L8.5 8.5l.94-2.06 2.06-.94-2.06-.94L8.5 2.5l-.94 2.06-2.06.94zm10 10l.94 2.06.94-2.06 2.06-.94-2.06-.94-.94-2.06-.94 2.06-2.06.94z\"/><path d=\"M17.41 7.96l-1.37-1.37c-.4-.4-.92-.59-1.43-.59-.52 0-1.04.2-1.43.59L10.3 9.45l-7.72 7.72c-.78.78-.78 2.05 0 2.83L4 21.41c.39.39.9.59 1.41.59.51 0 1.02-.2 1.41-.59l7.78-7.78 2.81-2.81c.8-.78.8-2.07 0-2.86zM5.41 20L4 18.59l7.72-7.72 1.47 1.35L5.41 20z\"/>\n",
              "  </svg>\n",
              "      </button>\n",
              "      \n",
              "  <style>\n",
              "    .colab-df-container {\n",
              "      display:flex;\n",
              "      flex-wrap:wrap;\n",
              "      gap: 12px;\n",
              "    }\n",
              "\n",
              "    .colab-df-convert {\n",
              "      background-color: #E8F0FE;\n",
              "      border: none;\n",
              "      border-radius: 50%;\n",
              "      cursor: pointer;\n",
              "      display: none;\n",
              "      fill: #1967D2;\n",
              "      height: 32px;\n",
              "      padding: 0 0 0 0;\n",
              "      width: 32px;\n",
              "    }\n",
              "\n",
              "    .colab-df-convert:hover {\n",
              "      background-color: #E2EBFA;\n",
              "      box-shadow: 0px 1px 2px rgba(60, 64, 67, 0.3), 0px 1px 3px 1px rgba(60, 64, 67, 0.15);\n",
              "      fill: #174EA6;\n",
              "    }\n",
              "\n",
              "    [theme=dark] .colab-df-convert {\n",
              "      background-color: #3B4455;\n",
              "      fill: #D2E3FC;\n",
              "    }\n",
              "\n",
              "    [theme=dark] .colab-df-convert:hover {\n",
              "      background-color: #434B5C;\n",
              "      box-shadow: 0px 1px 3px 1px rgba(0, 0, 0, 0.15);\n",
              "      filter: drop-shadow(0px 1px 2px rgba(0, 0, 0, 0.3));\n",
              "      fill: #FFFFFF;\n",
              "    }\n",
              "  </style>\n",
              "\n",
              "      <script>\n",
              "        const buttonEl =\n",
              "          document.querySelector('#df-f79b70b3-b045-492e-813d-94e5251a7078 button.colab-df-convert');\n",
              "        buttonEl.style.display =\n",
              "          google.colab.kernel.accessAllowed ? 'block' : 'none';\n",
              "\n",
              "        async function convertToInteractive(key) {\n",
              "          const element = document.querySelector('#df-f79b70b3-b045-492e-813d-94e5251a7078');\n",
              "          const dataTable =\n",
              "            await google.colab.kernel.invokeFunction('convertToInteractive',\n",
              "                                                     [key], {});\n",
              "          if (!dataTable) return;\n",
              "\n",
              "          const docLinkHtml = 'Like what you see? Visit the ' +\n",
              "            '<a target=\"_blank\" href=https://colab.research.google.com/notebooks/data_table.ipynb>data table notebook</a>'\n",
              "            + ' to learn more about interactive tables.';\n",
              "          element.innerHTML = '';\n",
              "          dataTable['output_type'] = 'display_data';\n",
              "          await google.colab.output.renderOutput(dataTable, element);\n",
              "          const docLink = document.createElement('div');\n",
              "          docLink.innerHTML = docLinkHtml;\n",
              "          element.appendChild(docLink);\n",
              "        }\n",
              "      </script>\n",
              "    </div>\n",
              "  </div>\n",
              "  "
            ]
          },
          "metadata": {},
          "execution_count": 35
        }
      ]
    },
    {
      "cell_type": "code",
      "source": [
        "df.index = df['Hora']"
      ],
      "metadata": {
        "id": "hbyhsFhii8b_"
      },
      "execution_count": 36,
      "outputs": []
    },
    {
      "cell_type": "code",
      "source": [
        "df"
      ],
      "metadata": {
        "colab": {
          "base_uri": "https://localhost:8080/",
          "height": 455
        },
        "id": "Tr5SBU_FjFwH",
        "outputId": "48fe9a71-3e41-473b-b17e-eba082cebcca"
      },
      "execution_count": 37,
      "outputs": [
        {
          "output_type": "execute_result",
          "data": {
            "text/plain": [
              "                                      Hora    Preço\n",
              "Hora                                               \n",
              "20-Dec-2022 12:42:25  20-Dec-2022 12:42:25  1213.05\n",
              "20-Dec-2022 12:42:30  20-Dec-2022 12:42:30  1213.05\n",
              "20-Dec-2022 12:42:36  20-Dec-2022 12:42:36  1213.05\n",
              "20-Dec-2022 12:42:41  20-Dec-2022 12:42:41  1213.05\n",
              "20-Dec-2022 12:42:46  20-Dec-2022 12:42:46  1213.05\n",
              "...                                    ...      ...\n",
              "20-Dec-2022 12:51:56  20-Dec-2022 12:51:56  1214.20\n",
              "20-Dec-2022 12:52:02  20-Dec-2022 12:52:02  1214.20\n",
              "20-Dec-2022 12:52:07  20-Dec-2022 12:52:07  1214.20\n",
              "20-Dec-2022 12:52:13  20-Dec-2022 12:52:13  1214.20\n",
              "20-Dec-2022 12:52:18  20-Dec-2022 12:52:18  1214.20\n",
              "\n",
              "[111 rows x 2 columns]"
            ],
            "text/html": [
              "\n",
              "  <div id=\"df-d623fac9-66b4-4b27-b734-35fe3bdd0bcb\">\n",
              "    <div class=\"colab-df-container\">\n",
              "      <div>\n",
              "<style scoped>\n",
              "    .dataframe tbody tr th:only-of-type {\n",
              "        vertical-align: middle;\n",
              "    }\n",
              "\n",
              "    .dataframe tbody tr th {\n",
              "        vertical-align: top;\n",
              "    }\n",
              "\n",
              "    .dataframe thead th {\n",
              "        text-align: right;\n",
              "    }\n",
              "</style>\n",
              "<table border=\"1\" class=\"dataframe\">\n",
              "  <thead>\n",
              "    <tr style=\"text-align: right;\">\n",
              "      <th></th>\n",
              "      <th>Hora</th>\n",
              "      <th>Preço</th>\n",
              "    </tr>\n",
              "    <tr>\n",
              "      <th>Hora</th>\n",
              "      <th></th>\n",
              "      <th></th>\n",
              "    </tr>\n",
              "  </thead>\n",
              "  <tbody>\n",
              "    <tr>\n",
              "      <th>20-Dec-2022 12:42:25</th>\n",
              "      <td>20-Dec-2022 12:42:25</td>\n",
              "      <td>1213.05</td>\n",
              "    </tr>\n",
              "    <tr>\n",
              "      <th>20-Dec-2022 12:42:30</th>\n",
              "      <td>20-Dec-2022 12:42:30</td>\n",
              "      <td>1213.05</td>\n",
              "    </tr>\n",
              "    <tr>\n",
              "      <th>20-Dec-2022 12:42:36</th>\n",
              "      <td>20-Dec-2022 12:42:36</td>\n",
              "      <td>1213.05</td>\n",
              "    </tr>\n",
              "    <tr>\n",
              "      <th>20-Dec-2022 12:42:41</th>\n",
              "      <td>20-Dec-2022 12:42:41</td>\n",
              "      <td>1213.05</td>\n",
              "    </tr>\n",
              "    <tr>\n",
              "      <th>20-Dec-2022 12:42:46</th>\n",
              "      <td>20-Dec-2022 12:42:46</td>\n",
              "      <td>1213.05</td>\n",
              "    </tr>\n",
              "    <tr>\n",
              "      <th>...</th>\n",
              "      <td>...</td>\n",
              "      <td>...</td>\n",
              "    </tr>\n",
              "    <tr>\n",
              "      <th>20-Dec-2022 12:51:56</th>\n",
              "      <td>20-Dec-2022 12:51:56</td>\n",
              "      <td>1214.20</td>\n",
              "    </tr>\n",
              "    <tr>\n",
              "      <th>20-Dec-2022 12:52:02</th>\n",
              "      <td>20-Dec-2022 12:52:02</td>\n",
              "      <td>1214.20</td>\n",
              "    </tr>\n",
              "    <tr>\n",
              "      <th>20-Dec-2022 12:52:07</th>\n",
              "      <td>20-Dec-2022 12:52:07</td>\n",
              "      <td>1214.20</td>\n",
              "    </tr>\n",
              "    <tr>\n",
              "      <th>20-Dec-2022 12:52:13</th>\n",
              "      <td>20-Dec-2022 12:52:13</td>\n",
              "      <td>1214.20</td>\n",
              "    </tr>\n",
              "    <tr>\n",
              "      <th>20-Dec-2022 12:52:18</th>\n",
              "      <td>20-Dec-2022 12:52:18</td>\n",
              "      <td>1214.20</td>\n",
              "    </tr>\n",
              "  </tbody>\n",
              "</table>\n",
              "<p>111 rows × 2 columns</p>\n",
              "</div>\n",
              "      <button class=\"colab-df-convert\" onclick=\"convertToInteractive('df-d623fac9-66b4-4b27-b734-35fe3bdd0bcb')\"\n",
              "              title=\"Convert this dataframe to an interactive table.\"\n",
              "              style=\"display:none;\">\n",
              "        \n",
              "  <svg xmlns=\"http://www.w3.org/2000/svg\" height=\"24px\"viewBox=\"0 0 24 24\"\n",
              "       width=\"24px\">\n",
              "    <path d=\"M0 0h24v24H0V0z\" fill=\"none\"/>\n",
              "    <path d=\"M18.56 5.44l.94 2.06.94-2.06 2.06-.94-2.06-.94-.94-2.06-.94 2.06-2.06.94zm-11 1L8.5 8.5l.94-2.06 2.06-.94-2.06-.94L8.5 2.5l-.94 2.06-2.06.94zm10 10l.94 2.06.94-2.06 2.06-.94-2.06-.94-.94-2.06-.94 2.06-2.06.94z\"/><path d=\"M17.41 7.96l-1.37-1.37c-.4-.4-.92-.59-1.43-.59-.52 0-1.04.2-1.43.59L10.3 9.45l-7.72 7.72c-.78.78-.78 2.05 0 2.83L4 21.41c.39.39.9.59 1.41.59.51 0 1.02-.2 1.41-.59l7.78-7.78 2.81-2.81c.8-.78.8-2.07 0-2.86zM5.41 20L4 18.59l7.72-7.72 1.47 1.35L5.41 20z\"/>\n",
              "  </svg>\n",
              "      </button>\n",
              "      \n",
              "  <style>\n",
              "    .colab-df-container {\n",
              "      display:flex;\n",
              "      flex-wrap:wrap;\n",
              "      gap: 12px;\n",
              "    }\n",
              "\n",
              "    .colab-df-convert {\n",
              "      background-color: #E8F0FE;\n",
              "      border: none;\n",
              "      border-radius: 50%;\n",
              "      cursor: pointer;\n",
              "      display: none;\n",
              "      fill: #1967D2;\n",
              "      height: 32px;\n",
              "      padding: 0 0 0 0;\n",
              "      width: 32px;\n",
              "    }\n",
              "\n",
              "    .colab-df-convert:hover {\n",
              "      background-color: #E2EBFA;\n",
              "      box-shadow: 0px 1px 2px rgba(60, 64, 67, 0.3), 0px 1px 3px 1px rgba(60, 64, 67, 0.15);\n",
              "      fill: #174EA6;\n",
              "    }\n",
              "\n",
              "    [theme=dark] .colab-df-convert {\n",
              "      background-color: #3B4455;\n",
              "      fill: #D2E3FC;\n",
              "    }\n",
              "\n",
              "    [theme=dark] .colab-df-convert:hover {\n",
              "      background-color: #434B5C;\n",
              "      box-shadow: 0px 1px 3px 1px rgba(0, 0, 0, 0.15);\n",
              "      filter: drop-shadow(0px 1px 2px rgba(0, 0, 0, 0.3));\n",
              "      fill: #FFFFFF;\n",
              "    }\n",
              "  </style>\n",
              "\n",
              "      <script>\n",
              "        const buttonEl =\n",
              "          document.querySelector('#df-d623fac9-66b4-4b27-b734-35fe3bdd0bcb button.colab-df-convert');\n",
              "        buttonEl.style.display =\n",
              "          google.colab.kernel.accessAllowed ? 'block' : 'none';\n",
              "\n",
              "        async function convertToInteractive(key) {\n",
              "          const element = document.querySelector('#df-d623fac9-66b4-4b27-b734-35fe3bdd0bcb');\n",
              "          const dataTable =\n",
              "            await google.colab.kernel.invokeFunction('convertToInteractive',\n",
              "                                                     [key], {});\n",
              "          if (!dataTable) return;\n",
              "\n",
              "          const docLinkHtml = 'Like what you see? Visit the ' +\n",
              "            '<a target=\"_blank\" href=https://colab.research.google.com/notebooks/data_table.ipynb>data table notebook</a>'\n",
              "            + ' to learn more about interactive tables.';\n",
              "          element.innerHTML = '';\n",
              "          dataTable['output_type'] = 'display_data';\n",
              "          await google.colab.output.renderOutput(dataTable, element);\n",
              "          const docLink = document.createElement('div');\n",
              "          docLink.innerHTML = docLinkHtml;\n",
              "          element.appendChild(docLink);\n",
              "        }\n",
              "      </script>\n",
              "    </div>\n",
              "  </div>\n",
              "  "
            ]
          },
          "metadata": {},
          "execution_count": 37
        }
      ]
    },
    {
      "cell_type": "code",
      "source": [
        "df['Preço'].plot(figsize = (20,8));"
      ],
      "metadata": {
        "colab": {
          "base_uri": "https://localhost:8080/",
          "height": 473
        },
        "id": "583pEAPBjIG3",
        "outputId": "79f1fb58-8586-44ce-ef9d-012dae12482b"
      },
      "execution_count": 38,
      "outputs": [
        {
          "output_type": "display_data",
          "data": {
            "text/plain": [
              "<Figure size 1440x576 with 1 Axes>"
            ],
            "image/png": "[encoded data removed]"
          },
          "metadata": {
            "needs_background": "light"
          }
        }
      ]
    },
    {
      "cell_type": "code",
      "source": [],
      "metadata": {
        "id": "2wH7EIvVjNI2"
      },
      "execution_count": null,
      "outputs": []
    }
  ]
}